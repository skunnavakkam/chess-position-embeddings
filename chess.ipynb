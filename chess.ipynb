{
 "cells": [
  {
   "cell_type": "markdown",
   "id": "c3e1a63d",
   "metadata": {},
   "source": [
    "## Install relevant dependencies\n",
    "I make the assumption that Pytorch is already installed"
   ]
  },
  {
   "cell_type": "code",
   "execution_count": 1,
   "id": "29a7730e-c50c-4a0e-b1f5-c8028ab7d2e5",
   "metadata": {},
   "outputs": [
    {
     "name": "stdout",
     "output_type": "stream",
     "text": [
      "Requirement already satisfied: python-chess in ./venv/lib/python3.11/site-packages (1.999)\n",
      "Requirement already satisfied: chess<2,>=1 in ./venv/lib/python3.11/site-packages (from python-chess) (1.10.0)\n",
      "Requirement already satisfied: tqdm in ./venv/lib/python3.11/site-packages (4.66.4)\n"
     ]
    }
   ],
   "source": [
    "!pip install python-chess\n",
    "!pip install tqdm"
   ]
  },
  {
   "cell_type": "markdown",
   "id": "19402cf7",
   "metadata": {},
   "source": [
    "## Download chess game data\n",
    "Can skip this step if your own pgns to use"
   ]
  },
  {
   "cell_type": "code",
   "execution_count": 2,
   "id": "abec8fd6-a98e-48de-982b-376d53141d10",
   "metadata": {},
   "outputs": [
    {
     "name": "stdout",
     "output_type": "stream",
     "text": [
      "  % Total    % Received % Xferd  Average Speed   Time    Time     Time  Current\n",
      "                                 Dload  Upload   Total   Spent    Left  Speed\n",
      "100 16.9M  100 16.9M    0     0  5758k      0  0:00:03  0:00:03 --:--:-- 5760k\n",
      "games.pgn.zst       : 92811021 bytes                                           \n"
     ]
    }
   ],
   "source": [
    "!curl https://database.lichess.org/standard/lichess_db_standard_rated_2013-01.pgn.zst --output games.pgn.zst\n",
    "!zstd --decompress games.pgn.zst\n",
    "\n",
    "# !mkdir pgns/ # uncomment if pgns dir does not exist\n",
    "!mv games.pgn pgns/\n",
    "!rm games.pgn.zst"
   ]
  },
  {
   "cell_type": "markdown",
   "id": "b404005b",
   "metadata": {},
   "source": [
    "## Create list of games"
   ]
  },
  {
   "cell_type": "code",
   "execution_count": 3,
   "id": "c3673feb-7f02-43f2-aba9-3c8353422353",
   "metadata": {},
   "outputs": [
    {
     "name": "stdout",
     "output_type": "stream",
     "text": [
      "100000 games parsed\n"
     ]
    }
   ],
   "source": [
    "import chess.pgn\n",
    "\n",
    "pgn = open(\"pgns/games.pgn\", \"r\", encoding=\"utf-8\")\n",
    "\n",
    "all_games= []\n",
    "\n",
    "# while True: \n",
    "for i in range(100000): # increase this limit for a better model\n",
    "    game = chess.pgn.read_game(pgn)\n",
    "    if game is None:\n",
    "        break  # End of games\n",
    "        \n",
    "    all_games.append(game)\n",
    "\n",
    "pgn.close()\n",
    "print(f\"{len(all_games)} games parsed\")"
   ]
  },
  {
   "cell_type": "markdown",
   "id": "586d93bd",
   "metadata": {},
   "source": [
    "## Create list of distinct chess positions\n",
    "Goal of this is to create diverse set of chess FENs that can be used to create the training dataset"
   ]
  },
  {
   "cell_type": "code",
   "execution_count": 4,
   "id": "ee55cbb9-2620-476e-bd85-24b8231495da",
   "metadata": {},
   "outputs": [
    {
     "name": "stdout",
     "output_type": "stream",
     "text": [
      "89690 unique positions\n"
     ]
    }
   ],
   "source": [
    "import random\n",
    "\n",
    "all_positions = set()\n",
    "\n",
    "for game in all_games:\n",
    "    board = game.board()\n",
    "    moves = list(game.mainline_moves())\n",
    "    positions = []\n",
    "    \n",
    "    for move in moves:\n",
    "        board.push(move)\n",
    "        positions.append(board.fen())\n",
    "    \n",
    "    random_positions = random.sample(positions, min(10, len(moves)) // 7)\n",
    "    all_positions.update(random_positions)\n",
    "\n",
    "all_positions = list(all_positions)\n",
    "print(f\"{len(all_positions)} unique positions\")"
   ]
  },
  {
   "cell_type": "markdown",
   "id": "ff7f4eef",
   "metadata": {},
   "source": [
    "## Define functions to convert between tensor and FEN string\n",
    "This will let us encode chess positions in a way the NNs can use"
   ]
  },
  {
   "cell_type": "code",
   "execution_count": 5,
   "id": "37d7ab8d",
   "metadata": {},
   "outputs": [
    {
     "name": "stdout",
     "output_type": "stream",
     "text": [
      "Shape of encoded chess position tensor: torch.Size([15, 8, 8])\n"
     ]
    },
    {
     "name": "stderr",
     "output_type": "stream",
     "text": [
      "/var/folders/3n/sjbgw9357l188k3xlvvxhwyc0000gn/T/ipykernel_32807/10974476.py:12: UserWarning: Failed to initialize NumPy: No module named 'numpy' (Triggered internally at /Users/runner/work/pytorch/pytorch/pytorch/torch/csrc/utils/tensor_numpy.cpp:84.)\n",
      "  tensor = torch.zeros(15, 8, 8, device=device)\n"
     ]
    }
   ],
   "source": [
    "import torch\n",
    "\n",
    "piece_to_idx = {'P': 0, 'N': 1, 'B': 2, 'R': 3, 'Q': 4, 'K': 5,\n",
    "                'p': 6, 'n': 7, 'b': 8, 'r': 9, 'q': 10, 'k': 11}\n",
    "\n",
    "def pos_to_tensor(fen, device=\"cpu\"):\n",
    "    parts = fen.split(\" \")\n",
    "    wtm = parts[1] == \"w\"\n",
    "    castling_rights = parts[2]\n",
    "\n",
    "    board = chess.Board(fen)\n",
    "    tensor = torch.zeros(15, 8, 8, device=device)\n",
    "\n",
    "    for row in range(8): \n",
    "        for col in range(8):\n",
    "            sqr = chess.square(col, 7 - row)\n",
    "            piece = board.piece_at(sqr)\n",
    "            if piece != None:\n",
    "                p = piece.symbol()\n",
    "                idx = piece_to_idx[p]\n",
    "                tensor[idx, row, col] = 1 if p.isupper() else -1\n",
    "                  \n",
    "    # Encode castling rights\n",
    "    if 'K' in castling_rights:\n",
    "        tensor[12, 0, 0] = 1\n",
    "    if 'Q' in castling_rights:\n",
    "        tensor[12, 0, 7] = 1\n",
    "    if 'k' in castling_rights:\n",
    "        tensor[13, 7, 0] = -1  \n",
    "    if 'q' in castling_rights:\n",
    "        tensor[13, 7, 7] = -1\n",
    "          \n",
    "    # Encode side to move\n",
    "    tensor[14] = 1 if wtm else -1\n",
    "      \n",
    "    return tensor\n",
    "\n",
    "def tensor_to_pos(tensor):\n",
    "    board = chess.Board(None)\n",
    "    piece_symbols = list(piece_to_idx.keys())\n",
    "    \n",
    "    # Decode the board pieces\n",
    "    for idx, piece_symbol in enumerate(piece_symbols[:12]):\n",
    "        mask = tensor[idx].abs() > 0\n",
    "        positions = mask.nonzero(as_tuple=True)\n",
    "        for row, col in zip(*positions):\n",
    "            square = chess.square(col, 7 - row)\n",
    "            board.set_piece_at(square, chess.Piece.from_symbol(piece_symbol))\n",
    "    \n",
    "    # Decode castling rights\n",
    "    castling_rights = ''\n",
    "    if tensor[12, 0, 0] == 1:\n",
    "        castling_rights += 'K'\n",
    "    if tensor[12, 0, 7] == 1:\n",
    "        castling_rights += 'Q'\n",
    "    if tensor[13, 7, 0] == -1:\n",
    "        castling_rights += 'k'\n",
    "    if tensor[13, 7, 7] == -1:\n",
    "        castling_rights += 'q'\n",
    "    board.set_castling_fen(castling_rights)\n",
    "    \n",
    "    # Decode side to move\n",
    "    side_to_move = 'w' if tensor[14].mean() > 0 else 'b'\n",
    "    board.turn = True if side_to_move == 'w' else False\n",
    "    \n",
    "    return board.fen()\n",
    "    \n",
    "print(f\"Shape of encoded chess position tensor: {pos_to_tensor(all_positions[0]).shape}\")"
   ]
  },
  {
   "cell_type": "markdown",
   "id": "35a2cc77",
   "metadata": {},
   "source": [
    "## Set pytorch device to cuda if available"
   ]
  },
  {
   "cell_type": "code",
   "execution_count": 6,
   "id": "a2e84bdc",
   "metadata": {},
   "outputs": [
    {
     "name": "stdout",
     "output_type": "stream",
     "text": [
      "using mps\n"
     ]
    }
   ],
   "source": [
    "device = \"mps\" if torch.backends.mps.is_available else \"cpu\"\n",
    "torch.set_default_device(\"cpu\")\n",
    "print(f\"using {device}\")"
   ]
  },
  {
   "cell_type": "markdown",
   "id": "660724dc",
   "metadata": {},
   "source": [
    "## Create datasets for training and testing"
   ]
  },
  {
   "cell_type": "code",
   "execution_count": 7,
   "id": "c79662dc",
   "metadata": {},
   "outputs": [
    {
     "name": "stdout",
     "output_type": "stream",
     "text": [
      "len training set: 71752\n",
      "len validation set: 8969\n",
      "len test set: 8969\n"
     ]
    }
   ],
   "source": [
    "from torch.utils.data import Dataset, DataLoader\n",
    "\n",
    "class PositionDataset(Dataset):\n",
    "  def __init__(self, tensors):\n",
    "        self.tensors = tensors\n",
    "\n",
    "  def __len__(self):\n",
    "      return len(self.tensors)\n",
    "\n",
    "  def __getitem__(self, idx):\n",
    "        return self.tensors[idx]\n",
    "\n",
    "tensors = [pos_to_tensor(pos, device) for pos in all_positions]\n",
    "random.shuffle(tensors)\n",
    "\n",
    "# Calculate the indices for splitting\n",
    "total_tensors = len(tensors)\n",
    "train_end = int(total_tensors * 0.8)\n",
    "val_end = int(total_tensors * 0.9)\n",
    "\n",
    "# Split the tensors into train, validation, and test sets\n",
    "train_tensors = tensors[:train_end]\n",
    "val_tensors = tensors[train_end:val_end]\n",
    "test_tensors = tensors[val_end:]\n",
    "\n",
    "# Create datasets for each split\n",
    "train_dataset = PositionDataset(train_tensors)\n",
    "val_dataset = PositionDataset(val_tensors)\n",
    "test_dataset = PositionDataset(test_tensors)\n",
    "\n",
    "print(f\"len training set: {len(train_dataset)}\")\n",
    "print(f\"len validation set: {len(val_dataset)}\")\n",
    "print(f\"len test set: {len(test_dataset)}\")"
   ]
  },
  {
   "cell_type": "markdown",
   "id": "1f2360cb",
   "metadata": {},
   "source": [
    "## Define the structure of the NN\n",
    "We are training an autoencoder that will learn to deconstruct, then reconstruct chess positions.\\\n",
    "Once trained, we can use the encoder to generate our embeddings"
   ]
  },
  {
   "cell_type": "code",
   "execution_count": 8,
   "id": "ea35a0ac",
   "metadata": {},
   "outputs": [],
   "source": [
    "import torch\n",
    "import torch.nn as nn\n",
    "import torch.nn.functional as F\n",
    "\n",
    "class Encoder(nn.Module):\n",
    "    def __init__(self, hyperparams):\n",
    "        super(Encoder, self).__init__()\n",
    "\n",
    "        channels = hyperparams[\"position_channels\"]\n",
    "        n_embed = hyperparams[\"n_embed\"]\n",
    "        filters = hyperparams[\"filters\"]\n",
    "        fc_size = hyperparams[\"fc_size\"]\n",
    "        \n",
    "        self.conv1 = nn.Conv2d(channels, filters, kernel_size=3, stride=1, padding=1)\n",
    "        self.conv2 = nn.Conv2d(filters, filters * 2, kernel_size=3, stride=1, padding=1)\n",
    "        self.conv3 = nn.Conv2d(filters * 2, filters * 4, kernel_size=3, stride=1, padding=1)\n",
    "        self.pool = nn.MaxPool2d(kernel_size=2, stride=2)\n",
    "        self.flatten = nn.Flatten()\n",
    "        self.fc1 = nn.Linear(filters * 4 * 1 * 1, fc_size)\n",
    "        self.fc2 = nn.Linear(fc_size, n_embed)  # Compressed representation\n",
    "\n",
    "    def forward(self, x):\n",
    "        x = F.relu(self.conv1(x))\n",
    "        x = self.pool(x)\n",
    "        x = F.relu(self.conv2(x))\n",
    "        x = self.pool(x)\n",
    "        x = F.relu(self.conv3(x))  \n",
    "        x = self.pool(x)\n",
    "        x = self.flatten(x)\n",
    "        x = F.relu(self.fc1(x))\n",
    "        x = self.fc2(x)\n",
    "        return x\n",
    "\n",
    "class Decoder(nn.Module):\n",
    "    def __init__(self, hyperparams):        \n",
    "        super(Decoder, self).__init__()\n",
    "\n",
    "        channels = hyperparams[\"position_channels\"]\n",
    "        n_embed = hyperparams[\"n_embed\"]\n",
    "        filters = hyperparams[\"filters\"]\n",
    "        fc_size = hyperparams[\"fc_size\"]\n",
    "\n",
    "        \n",
    "        self.fc1 = nn.Linear(n_embed, fc_size)\n",
    "        self.fc2 = nn.Linear(fc_size, filters * 4 * 1 * 1)\n",
    "        self.unflatten = nn.Unflatten(dim=1, unflattened_size=(filters * 4 , 1, 1))\n",
    "        self.deconv1 = nn.ConvTranspose2d(filters * 4, filters * 2, kernel_size=3, stride=2, padding=1, output_padding=1)\n",
    "        self.deconv2 = nn.ConvTranspose2d(filters * 2, filters, kernel_size=3, stride=2, padding=1, output_padding=1)\n",
    "        self.deconv3 = nn.ConvTranspose2d(filters, channels, kernel_size=3, stride=2, padding=1, output_padding=1)\n",
    "\n",
    "    def forward(self, x):\n",
    "        x = F.relu(self.fc1(x))\n",
    "        x = F.relu(self.fc2(x))\n",
    "        x = self.unflatten(x)\n",
    "        x = F.relu(self.deconv1(x))\n",
    "        x = F.relu(self.deconv2(x))\n",
    "        x = self.deconv3(x)\n",
    "        return x\n",
    "\n",
    "class PositionAutoEncoder(nn.Module):\n",
    "    def __init__(self, hyperparams):\n",
    "        super(PositionAutoEncoder, self).__init__()\n",
    "        self.encoder = Encoder(hyperparams)\n",
    "        self.decoder = Decoder(hyperparams)\n",
    "\n",
    "    \n",
    "    def forward(self, x):\n",
    "        x = self.encoder(x)\n",
    "        x = self.decoder(x)\n",
    "\n",
    "        return x\n",
    "\n",
    "    @torch.no_grad()\n",
    "    def embed(self, x):\n",
    "        code = self.encoder(x)\n",
    "        return code"
   ]
  },
  {
   "cell_type": "markdown",
   "id": "361b6c97",
   "metadata": {},
   "source": [
    "## Define model hyperparameter"
   ]
  },
  {
   "cell_type": "code",
   "execution_count": 9,
   "id": "05ef4013",
   "metadata": {},
   "outputs": [],
   "source": [
    "hyperparams = {\n",
    "    \"batch_size\": 32,\n",
    "    \"n_epochs\": 50,\n",
    "    \"learning_rate\": 17e-4,\n",
    "    \"dropout_rate\": 0,\n",
    "    \"position_channels\": 15,\n",
    "    \"n_embed\": 128,\n",
    "    \"filters\": 32,\n",
    "    \"fc_size\": 256,\n",
    "    \"version\": 6\n",
    "}\n",
    "\n",
    "batch_size = hyperparams[\"batch_size\"]\n",
    "n_epochs = hyperparams[\"n_epochs\"]\n",
    "learning_rate = hyperparams[\"learning_rate\"]"
   ]
  },
  {
   "cell_type": "markdown",
   "id": "5caab68f",
   "metadata": {},
   "source": [
    "## Initialize the model and optimizer"
   ]
  },
  {
   "cell_type": "code",
   "execution_count": 10,
   "id": "6d0173f5",
   "metadata": {},
   "outputs": [
    {
     "name": "stdout",
     "output_type": "stream",
     "text": [
      "0.33M parameters\n",
      "training iterations: 112150\n"
     ]
    }
   ],
   "source": [
    "from torch.optim import AdamW, lr_scheduler\n",
    "\n",
    "# init dataloaders\n",
    "train_loader = DataLoader(train_dataset, batch_size=batch_size, shuffle=True)\n",
    "val_loader = DataLoader(val_dataset, batch_size=batch_size, shuffle=False)\n",
    "test_loader = DataLoader(test_dataset, batch_size=batch_size, shuffle=False)\n",
    "\n",
    "#init model\n",
    "model = PositionAutoEncoder(hyperparams)\n",
    "model.to(device)\n",
    "\n",
    "# init optimizer\n",
    "optimizer = AdamW(model.parameters(), lr=learning_rate)\n",
    "num_params = sum(p.numel() for p in model.parameters())/1e6\n",
    "print(f\"{num_params:.2f}M parameters\")\n",
    "\n",
    "# init lr scheduler\n",
    "num_training_steps = n_epochs * len(train_loader)\n",
    "scheduler = lr_scheduler.OneCycleLR(optimizer=optimizer, max_lr=learning_rate, total_steps=num_training_steps)\n",
    "print(f\"training iterations: {num_training_steps}\")\n"
   ]
  },
  {
   "cell_type": "markdown",
   "id": "c961daaa",
   "metadata": {},
   "source": [
    "## Run the training loop\n",
    "We train by minimizing MSE loss on the reconstructed posittion encoding.\\\n",
    "Validation loss is calculated after each epoch to ensure learning"
   ]
  },
  {
   "cell_type": "code",
   "execution_count": 11,
   "id": "20ba977d",
   "metadata": {
    "scrolled": true
   },
   "outputs": [
    {
     "name": "stderr",
     "output_type": "stream",
     "text": [
      "/Users/sudarshanagopalkunnavakkam/Documents/Github/chess-position-embeddings/venv/lib/python3.11/site-packages/tqdm/auto.py:21: TqdmWarning: IProgress not found. Please update jupyter and ipywidgets. See https://ipywidgets.readthedocs.io/en/stable/user_install.html\n",
      "  from .autonotebook import tqdm as notebook_tqdm\n",
      "  2%|▏         | 2240/112150 [00:45<33:55, 54.01it/s]  "
     ]
    },
    {
     "name": "stdout",
     "output_type": "stream",
     "text": [
      "finished epcoh: 0\n"
     ]
    },
    {
     "name": "stderr",
     "output_type": "stream",
     "text": [
      "  2%|▏         | 2249/112150 [01:04<23:54:00,  1.28it/s]"
     ]
    },
    {
     "name": "stdout",
     "output_type": "stream",
     "text": [
      "learning rate: 8.583261395319545e-05\n",
      "val loss: 0.01817934773862362\n",
      "train loss: 0.018181797116994858\n"
     ]
    },
    {
     "name": "stderr",
     "output_type": "stream",
     "text": [
      "  4%|▍         | 4483/112150 [01:47<33:53, 52.96it/s]   "
     ]
    },
    {
     "name": "stdout",
     "output_type": "stream",
     "text": [
      "finished epcoh: 1\n"
     ]
    },
    {
     "name": "stderr",
     "output_type": "stream",
     "text": [
      "  4%|▍         | 4495/112150 [02:04<17:38:51,  1.69it/s]"
     ]
    },
    {
     "name": "stdout",
     "output_type": "stream",
     "text": [
      "learning rate: 0.00013855103885100813\n",
      "val loss: 0.01700441539287567\n",
      "train loss: 0.01699102483689785\n"
     ]
    },
    {
     "name": "stderr",
     "output_type": "stream",
     "text": [
      "  6%|▌         | 6729/112150 [02:35<26:30, 66.29it/s]   "
     ]
    },
    {
     "name": "stdout",
     "output_type": "stream",
     "text": [
      "finished epcoh: 2\n"
     ]
    },
    {
     "name": "stderr",
     "output_type": "stream",
     "text": [
      "  6%|▌         | 6738/112150 [02:55<19:58:13,  1.47it/s]"
     ]
    },
    {
     "name": "stdout",
     "output_type": "stream",
     "text": [
      "learning rate: 0.00022385109008700877\n",
      "val loss: 0.01514926552772522\n",
      "train loss: 0.015156994573771954\n"
     ]
    },
    {
     "name": "stderr",
     "output_type": "stream",
     "text": [
      "  8%|▊         | 8969/112150 [03:24<23:15, 73.92it/s]   "
     ]
    },
    {
     "name": "stdout",
     "output_type": "stream",
     "text": [
      "finished epcoh: 3\n"
     ]
    },
    {
     "name": "stderr",
     "output_type": "stream",
     "text": [
      "  8%|▊         | 8985/112150 [03:37<9:43:04,  2.95it/s] "
     ]
    },
    {
     "name": "stdout",
     "output_type": "stream",
     "text": [
      "learning rate: 0.00033800452529874725\n",
      "val loss: 0.014940446242690086\n",
      "train loss: 0.01494923047721386\n"
     ]
    },
    {
     "name": "stderr",
     "output_type": "stream",
     "text": [
      " 10%|▉         | 11207/112150 [04:03<19:53, 84.59it/s] "
     ]
    },
    {
     "name": "stdout",
     "output_type": "stream",
     "text": [
      "finished epcoh: 4\n"
     ]
    },
    {
     "name": "stderr",
     "output_type": "stream",
     "text": [
      " 10%|█         | 11222/112150 [04:17<10:25:26,  2.69it/s]"
     ]
    },
    {
     "name": "stdout",
     "output_type": "stream",
     "text": [
      "learning rate: 0.0004760219961000428\n",
      "val loss: 0.014342368580400944\n",
      "train loss: 0.014351881109178066\n"
     ]
    },
    {
     "name": "stderr",
     "output_type": "stream",
     "text": [
      " 12%|█▏        | 13450/112150 [04:45<20:09, 81.60it/s]   "
     ]
    },
    {
     "name": "stdout",
     "output_type": "stream",
     "text": [
      "finished epcoh: 5\n"
     ]
    },
    {
     "name": "stderr",
     "output_type": "stream",
     "text": [
      " 12%|█▏        | 13467/112150 [05:02<11:58:05,  2.29it/s]"
     ]
    },
    {
     "name": "stdout",
     "output_type": "stream",
     "text": [
      "learning rate: 0.0006318711194624738\n",
      "val loss: 0.013624461367726326\n",
      "train loss: 0.013641721569001675\n"
     ]
    },
    {
     "name": "stderr",
     "output_type": "stream",
     "text": [
      " 14%|█▍        | 15694/112150 [05:29<19:22, 82.98it/s]   "
     ]
    },
    {
     "name": "stdout",
     "output_type": "stream",
     "text": [
      "finished epcoh: 6\n"
     ]
    },
    {
     "name": "stderr",
     "output_type": "stream",
     "text": [
      " 14%|█▍        | 15710/112150 [05:43<9:06:44,  2.94it/s] "
     ]
    },
    {
     "name": "stdout",
     "output_type": "stream",
     "text": [
      "learning rate: 0.0007987401374157798\n",
      "val loss: 0.01338213961571455\n",
      "train loss: 0.013401484116911888\n"
     ]
    },
    {
     "name": "stderr",
     "output_type": "stream",
     "text": [
      " 16%|█▌        | 17940/112150 [06:10<18:55, 82.98it/s]  "
     ]
    },
    {
     "name": "stdout",
     "output_type": "stream",
     "text": [
      "finished epcoh: 7\n"
     ]
    },
    {
     "name": "stderr",
     "output_type": "stream",
     "text": [
      " 16%|█▌        | 17957/112150 [06:25<9:30:00,  2.75it/s] "
     ]
    },
    {
     "name": "stdout",
     "output_type": "stream",
     "text": [
      "learning rate: 0.0009693356411905733\n",
      "val loss: 0.012907050549983978\n",
      "train loss: 0.012922242283821106\n"
     ]
    },
    {
     "name": "stderr",
     "output_type": "stream",
     "text": [
      " 18%|█▊        | 20183/112150 [06:52<18:53, 81.10it/s]  "
     ]
    },
    {
     "name": "stdout",
     "output_type": "stream",
     "text": [
      "finished epcoh: 8\n"
     ]
    },
    {
     "name": "stderr",
     "output_type": "stream",
     "text": [
      " 18%|█▊        | 20200/112150 [07:09<10:32:00,  2.42it/s]"
     ]
    },
    {
     "name": "stdout",
     "output_type": "stream",
     "text": [
      "learning rate: 0.0011362013470589943\n",
      "val loss: 0.0123378224670887\n",
      "train loss: 0.012342734262347221\n"
     ]
    },
    {
     "name": "stderr",
     "output_type": "stream",
     "text": [
      " 20%|█▉        | 22425/112150 [07:38<18:18, 81.68it/s]   "
     ]
    },
    {
     "name": "stdout",
     "output_type": "stream",
     "text": [
      "finished epcoh: 9\n"
     ]
    },
    {
     "name": "stderr",
     "output_type": "stream",
     "text": [
      " 20%|██        | 22439/112150 [08:07<18:59:03,  1.31it/s]"
     ]
    },
    {
     "name": "stdout",
     "output_type": "stream",
     "text": [
      "learning rate: 0.001292043991014232\n",
      "val loss: 0.011012295261025429\n",
      "train loss: 0.01100356224924326\n"
     ]
    },
    {
     "name": "stderr",
     "output_type": "stream",
     "text": [
      " 22%|██▏       | 24671/112150 [08:34<17:57, 81.19it/s]   "
     ]
    },
    {
     "name": "stdout",
     "output_type": "stream",
     "text": [
      "finished epcoh: 10\n"
     ]
    },
    {
     "name": "stderr",
     "output_type": "stream",
     "text": [
      " 22%|██▏       | 24682/112150 [09:01<18:16:04,  1.33it/s]"
     ]
    },
    {
     "name": "stdout",
     "output_type": "stream",
     "text": [
      "learning rate: 0.0014300520982839843\n",
      "val loss: 0.010114243254065514\n",
      "train loss: 0.010090316645801067\n"
     ]
    },
    {
     "name": "stderr",
     "output_type": "stream",
     "text": [
      " 24%|██▍       | 26911/112150 [09:28<17:26, 81.43it/s]   "
     ]
    },
    {
     "name": "stdout",
     "output_type": "stream",
     "text": [
      "finished epcoh: 11\n"
     ]
    },
    {
     "name": "stderr",
     "output_type": "stream",
     "text": [
      " 24%|██▍       | 26925/112150 [09:49<12:57:04,  1.83it/s]"
     ]
    },
    {
     "name": "stdout",
     "output_type": "stream",
     "text": [
      "learning rate: 0.001544193695095328\n",
      "val loss: 0.009641195647418499\n",
      "train loss: 0.009614516980946064\n"
     ]
    },
    {
     "name": "stderr",
     "output_type": "stream",
     "text": [
      " 26%|██▌       | 29159/112150 [10:17<17:09, 80.59it/s]   "
     ]
    },
    {
     "name": "stdout",
     "output_type": "stream",
     "text": [
      "finished epcoh: 12\n"
     ]
    },
    {
     "name": "stderr",
     "output_type": "stream",
     "text": [
      " 26%|██▌       | 29168/112150 [10:47<21:19:40,  1.08it/s]"
     ]
    },
    {
     "name": "stdout",
     "output_type": "stream",
     "text": [
      "learning rate: 0.001629479950487631\n",
      "val loss: 0.008884647861123085\n",
      "train loss: 0.00885975081473589\n"
     ]
    },
    {
     "name": "stderr",
     "output_type": "stream",
     "text": [
      " 28%|██▊       | 31400/112150 [11:15<16:32, 81.39it/s]   "
     ]
    },
    {
     "name": "stdout",
     "output_type": "stream",
     "text": [
      "finished epcoh: 13\n"
     ]
    },
    {
     "name": "stderr",
     "output_type": "stream",
     "text": [
      " 28%|██▊       | 31411/112150 [11:47<20:40:24,  1.08it/s]"
     ]
    },
    {
     "name": "stdout",
     "output_type": "stream",
     "text": [
      "learning rate: 0.0016821832250787253\n",
      "val loss: 0.008300947956740856\n",
      "train loss: 0.008260425180196762\n"
     ]
    },
    {
     "name": "stderr",
     "output_type": "stream",
     "text": [
      " 30%|██▉       | 33640/112150 [12:15<16:04, 81.43it/s]   "
     ]
    },
    {
     "name": "stdout",
     "output_type": "stream",
     "text": [
      "finished epcoh: 14\n"
     ]
    },
    {
     "name": "stderr",
     "output_type": "stream",
     "text": [
      " 30%|███       | 33654/112150 [12:37<12:49:58,  1.70it/s]"
     ]
    },
    {
     "name": "stdout",
     "output_type": "stream",
     "text": [
      "learning rate: 0.0016999999993193994\n",
      "val loss: 0.008042393252253532\n",
      "train loss: 0.008009368553757668\n"
     ]
    },
    {
     "name": "stderr",
     "output_type": "stream",
     "text": [
      " 32%|███▏      | 35880/112150 [13:04<15:30, 81.94it/s]   "
     ]
    },
    {
     "name": "stdout",
     "output_type": "stream",
     "text": [
      "finished epcoh: 15\n"
     ]
    },
    {
     "name": "stderr",
     "output_type": "stream",
     "text": [
      " 32%|███▏      | 35897/112150 [13:27<11:52:35,  1.78it/s]"
     ]
    },
    {
     "name": "stdout",
     "output_type": "stream",
     "text": [
      "learning rate: 0.0016965751138295405\n",
      "val loss: 0.00765839172527194\n",
      "train loss: 0.007615339942276478\n"
     ]
    },
    {
     "name": "stderr",
     "output_type": "stream",
     "text": [
      " 34%|███▍      | 38125/112150 [13:55<15:07, 81.54it/s]   "
     ]
    },
    {
     "name": "stdout",
     "output_type": "stream",
     "text": [
      "finished epcoh: 16\n"
     ]
    },
    {
     "name": "stderr",
     "output_type": "stream",
     "text": [
      " 34%|███▍      | 38140/112150 [14:16<11:12:03,  1.84it/s]"
     ]
    },
    {
     "name": "stdout",
     "output_type": "stream",
     "text": [
      "learning rate: 0.0016863341306760328\n",
      "val loss: 0.0073494683019816875\n",
      "train loss: 0.007315434515476227\n"
     ]
    },
    {
     "name": "stderr",
     "output_type": "stream",
     "text": [
      " 36%|███▌      | 40367/112150 [14:43<14:37, 81.82it/s]   "
     ]
    },
    {
     "name": "stdout",
     "output_type": "stream",
     "text": [
      "finished epcoh: 17\n"
     ]
    },
    {
     "name": "stderr",
     "output_type": "stream",
     "text": [
      " 36%|███▌      | 40383/112150 [14:55<5:57:51,  3.34it/s]"
     ]
    },
    {
     "name": "stdout",
     "output_type": "stream",
     "text": [
      "learning rate: 0.001669359504233628\n",
      "val loss: 0.011752900667488575\n",
      "train loss: 0.011746767908334732\n"
     ]
    },
    {
     "name": "stderr",
     "output_type": "stream",
     "text": [
      " 38%|███▊      | 42610/112150 [15:22<14:12, 81.59it/s]  "
     ]
    },
    {
     "name": "stdout",
     "output_type": "stream",
     "text": [
      "finished epcoh: 18\n"
     ]
    },
    {
     "name": "stderr",
     "output_type": "stream",
     "text": [
      " 38%|███▊      | 42626/112150 [15:31<4:12:03,  4.60it/s]"
     ]
    },
    {
     "name": "stdout",
     "output_type": "stream",
     "text": [
      "learning rate: 0.0016457879042135217\n",
      "val loss: 0.010148672387003899\n",
      "train loss: 0.010129549540579319\n"
     ]
    },
    {
     "name": "stderr",
     "output_type": "stream",
     "text": [
      " 40%|███▉      | 44854/112150 [15:58<13:51, 80.93it/s]  "
     ]
    },
    {
     "name": "stdout",
     "output_type": "stream",
     "text": [
      "finished epcoh: 19\n"
     ]
    },
    {
     "name": "stderr",
     "output_type": "stream",
     "text": [
      " 40%|████      | 44870/112150 [16:05<3:12:32,  5.82it/s]"
     ]
    },
    {
     "name": "stdout",
     "output_type": "stream",
     "text": [
      "learning rate: 0.0016158091152791987\n",
      "val loss: 0.009312155656516552\n",
      "train loss: 0.009291520342230797\n"
     ]
    },
    {
     "name": "stderr",
     "output_type": "stream",
     "text": [
      " 42%|████▏     | 47099/112150 [16:33<13:15, 81.75it/s]  "
     ]
    },
    {
     "name": "stdout",
     "output_type": "stream",
     "text": [
      "finished epcoh: 20\n"
     ]
    },
    {
     "name": "stderr",
     "output_type": "stream",
     "text": [
      " 42%|████▏     | 47114/112150 [16:39<3:15:47,  5.54it/s]"
     ]
    },
    {
     "name": "stdout",
     "output_type": "stream",
     "text": [
      "learning rate: 0.0015796645090119165\n",
      "val loss: 0.00890581775456667\n",
      "train loss: 0.008884284645318985\n"
     ]
    },
    {
     "name": "stderr",
     "output_type": "stream",
     "text": [
      " 44%|████▍     | 49339/112150 [17:07<13:09, 79.61it/s]  "
     ]
    },
    {
     "name": "stdout",
     "output_type": "stream",
     "text": [
      "finished epcoh: 21\n"
     ]
    },
    {
     "name": "stderr",
     "output_type": "stream",
     "text": [
      " 44%|████▍     | 49354/112150 [17:13<3:11:45,  5.46it/s]"
     ]
    },
    {
     "name": "stdout",
     "output_type": "stream",
     "text": [
      "learning rate: 0.0015376451005286547\n",
      "val loss: 0.008553639985620975\n",
      "train loss: 0.008535314351320267\n"
     ]
    },
    {
     "name": "stderr",
     "output_type": "stream",
     "text": [
      " 46%|████▌     | 51585/112150 [17:41<11:56, 84.48it/s]  "
     ]
    },
    {
     "name": "stdout",
     "output_type": "stream",
     "text": [
      "finished epcoh: 22\n"
     ]
    },
    {
     "name": "stderr",
     "output_type": "stream",
     "text": [
      " 46%|████▌     | 51602/112150 [17:47<2:49:40,  5.95it/s]"
     ]
    },
    {
     "name": "stdout",
     "output_type": "stream",
     "text": [
      "learning rate: 0.0014900892053995082\n",
      "val loss: 0.008280747570097446\n",
      "train loss: 0.008247309364378452\n"
     ]
    },
    {
     "name": "stderr",
     "output_type": "stream",
     "text": [
      " 48%|████▊     | 53830/112150 [18:14<11:43, 82.92it/s]  "
     ]
    },
    {
     "name": "stdout",
     "output_type": "stream",
     "text": [
      "finished epcoh: 23\n"
     ]
    },
    {
     "name": "stderr",
     "output_type": "stream",
     "text": [
      " 48%|████▊     | 53847/112150 [18:21<2:50:09,  5.71it/s]"
     ]
    },
    {
     "name": "stdout",
     "output_type": "stream",
     "text": [
      "learning rate: 0.0014373797157296434\n",
      "val loss: 0.008054747246205807\n",
      "train loss: 0.008031242527067661\n"
     ]
    },
    {
     "name": "stderr",
     "output_type": "stream",
     "text": [
      " 50%|████▉     | 56068/112150 [18:47<10:56, 85.49it/s]  "
     ]
    },
    {
     "name": "stdout",
     "output_type": "stream",
     "text": [
      "finished epcoh: 24\n"
     ]
    },
    {
     "name": "stderr",
     "output_type": "stream",
     "text": [
      " 50%|█████     | 56085/112150 [18:55<2:50:47,  5.47it/s]"
     ]
    },
    {
     "name": "stdout",
     "output_type": "stream",
     "text": [
      "learning rate: 0.0013799410173372048\n",
      "val loss: 0.007971185259521008\n",
      "train loss: 0.007947842590510845\n"
     ]
    },
    {
     "name": "stderr",
     "output_type": "stream",
     "text": [
      " 52%|█████▏    | 58316/112150 [19:21<10:37, 84.43it/s]  "
     ]
    },
    {
     "name": "stdout",
     "output_type": "stream",
     "text": [
      "finished epcoh: 25\n"
     ]
    },
    {
     "name": "stderr",
     "output_type": "stream",
     "text": [
      " 52%|█████▏    | 58333/112150 [19:28<2:35:49,  5.76it/s]"
     ]
    },
    {
     "name": "stdout",
     "output_type": "stream",
     "text": [
      "learning rate: 0.0013182355728482394\n",
      "val loss: 0.007910186424851418\n",
      "train loss: 0.007879339158535004\n"
     ]
    },
    {
     "name": "stderr",
     "output_type": "stream",
     "text": [
      " 54%|█████▍    | 60555/112150 [19:54<10:04, 85.35it/s]  "
     ]
    },
    {
     "name": "stdout",
     "output_type": "stream",
     "text": [
      "finished epcoh: 26\n"
     ]
    },
    {
     "name": "stderr",
     "output_type": "stream",
     "text": [
      " 54%|█████▍    | 60572/112150 [20:01<2:32:42,  5.63it/s]"
     ]
    },
    {
     "name": "stdout",
     "output_type": "stream",
     "text": [
      "learning rate: 0.0012527601982195596\n",
      "val loss: 0.007755425292998552\n",
      "train loss: 0.007727895397692919\n"
     ]
    },
    {
     "name": "stderr",
     "output_type": "stream",
     "text": [
      " 56%|█████▌    | 62803/112150 [20:28<09:46, 84.17it/s]  "
     ]
    },
    {
     "name": "stdout",
     "output_type": "stream",
     "text": [
      "finished epcoh: 27\n"
     ]
    },
    {
     "name": "stderr",
     "output_type": "stream",
     "text": [
      " 56%|█████▌    | 62812/112150 [20:37<4:10:20,  3.28it/s]"
     ]
    },
    {
     "name": "stdout",
     "output_type": "stream",
     "text": [
      "learning rate: 0.0011840420626687779\n",
      "val loss: 0.007508154027163982\n",
      "train loss: 0.007473407778888941\n"
     ]
    },
    {
     "name": "stderr",
     "output_type": "stream",
     "text": [
      " 58%|█████▊    | 65043/112150 [21:03<09:20, 84.05it/s]  "
     ]
    },
    {
     "name": "stdout",
     "output_type": "stream",
     "text": [
      "finished epcoh: 28\n"
     ]
    },
    {
     "name": "stderr",
     "output_type": "stream",
     "text": [
      " 58%|█████▊    | 65060/112150 [21:12<2:58:53,  4.39it/s]"
     ]
    },
    {
     "name": "stdout",
     "output_type": "stream",
     "text": [
      "learning rate: 0.0011126344442177402\n",
      "val loss: 0.007435886655002832\n",
      "train loss: 0.007396027911454439\n"
     ]
    },
    {
     "name": "stderr",
     "output_type": "stream",
     "text": [
      " 60%|█████▉    | 67288/112150 [21:39<08:51, 84.39it/s]  "
     ]
    },
    {
     "name": "stdout",
     "output_type": "stream",
     "text": [
      "finished epcoh: 29\n"
     ]
    },
    {
     "name": "stderr",
     "output_type": "stream",
     "text": [
      " 60%|██████    | 67305/112150 [21:47<2:31:08,  4.95it/s]"
     ]
    },
    {
     "name": "stdout",
     "output_type": "stream",
     "text": [
      "learning rate: 0.0010391122750232145\n",
      "val loss: 0.00737511133775115\n",
      "train loss: 0.007333476562052965\n"
     ]
    },
    {
     "name": "stderr",
     "output_type": "stream",
     "text": [
      " 62%|██████▏   | 69527/112150 [22:13<08:24, 84.43it/s]  "
     ]
    },
    {
     "name": "stdout",
     "output_type": "stream",
     "text": [
      "finished epcoh: 30\n"
     ]
    },
    {
     "name": "stderr",
     "output_type": "stream",
     "text": [
      " 62%|██████▏   | 69544/112150 [22:22<2:38:43,  4.47it/s]"
     ]
    },
    {
     "name": "stdout",
     "output_type": "stream",
     "text": [
      "learning rate: 0.00096406751236122\n",
      "val loss: 0.007263731677085161\n",
      "train loss: 0.007230900693684816\n"
     ]
    },
    {
     "name": "stderr",
     "output_type": "stream",
     "text": [
      " 64%|██████▍   | 71774/112150 [22:49<07:56, 84.81it/s]  "
     ]
    },
    {
     "name": "stdout",
     "output_type": "stream",
     "text": [
      "finished epcoh: 31\n"
     ]
    },
    {
     "name": "stderr",
     "output_type": "stream",
     "text": [
      " 64%|██████▍   | 71791/112150 [22:59<2:54:22,  3.86it/s]"
     ]
    },
    {
     "name": "stdout",
     "output_type": "stream",
     "text": [
      "learning rate: 0.0008881043725351046\n",
      "val loss: 0.00715663330629468\n",
      "train loss: 0.00712421303614974\n"
     ]
    },
    {
     "name": "stderr",
     "output_type": "stream",
     "text": [
      " 66%|██████▌   | 74012/112150 [23:27<07:51, 80.86it/s]  "
     ]
    },
    {
     "name": "stdout",
     "output_type": "stream",
     "text": [
      "finished epcoh: 32\n"
     ]
    },
    {
     "name": "stderr",
     "output_type": "stream",
     "text": [
      " 66%|██████▌   | 74028/112150 [23:37<2:35:43,  4.08it/s]"
     ]
    },
    {
     "name": "stdout",
     "output_type": "stream",
     "text": [
      "learning rate: 0.0008118344660811459\n",
      "val loss: 0.007115764543414116\n",
      "train loss: 0.007086172234266996\n"
     ]
    },
    {
     "name": "stderr",
     "output_type": "stream",
     "text": [
      " 68%|██████▊   | 76262/112150 [24:05<07:19, 81.70it/s]  "
     ]
    },
    {
     "name": "stdout",
     "output_type": "stream",
     "text": [
      "finished epcoh: 33\n"
     ]
    },
    {
     "name": "stderr",
     "output_type": "stream",
     "text": [
      " 68%|██████▊   | 76271/112150 [24:14<3:09:55,  3.15it/s]"
     ]
    },
    {
     "name": "stdout",
     "output_type": "stream",
     "text": [
      "learning rate: 0.0007358718734401317\n",
      "val loss: 0.007037002593278885\n",
      "train loss: 0.006998453754931688\n"
     ]
    },
    {
     "name": "stderr",
     "output_type": "stream",
     "text": [
      " 70%|██████▉   | 78499/112150 [24:42<06:47, 82.57it/s]  "
     ]
    },
    {
     "name": "stdout",
     "output_type": "stream",
     "text": [
      "finished epcoh: 34\n"
     ]
    },
    {
     "name": "stderr",
     "output_type": "stream",
     "text": [
      " 70%|███████   | 78516/112150 [24:52<2:08:16,  4.37it/s]"
     ]
    },
    {
     "name": "stdout",
     "output_type": "stream",
     "text": [
      "learning rate: 0.0006608282007427268\n",
      "val loss: 0.006988768000155687\n",
      "train loss: 0.006953968666493893\n"
     ]
    },
    {
     "name": "stderr",
     "output_type": "stream",
     "text": [
      " 72%|███████▏  | 80746/112150 [25:19<06:19, 82.75it/s]  "
     ]
    },
    {
     "name": "stdout",
     "output_type": "stream",
     "text": [
      "finished epcoh: 35\n"
     ]
    },
    {
     "name": "stderr",
     "output_type": "stream",
     "text": [
      " 72%|███████▏  | 80755/112150 [25:28<2:42:36,  3.22it/s]"
     ]
    },
    {
     "name": "stdout",
     "output_type": "stream",
     "text": [
      "learning rate: 0.0005873076555165257\n",
      "val loss: 0.006895107217133045\n",
      "train loss: 0.0068594892509281635\n"
     ]
    },
    {
     "name": "stderr",
     "output_type": "stream",
     "text": [
      " 74%|███████▍  | 82984/112150 [25:55<05:51, 83.08it/s]  "
     ]
    },
    {
     "name": "stdout",
     "output_type": "stream",
     "text": [
      "finished epcoh: 36\n"
     ]
    },
    {
     "name": "stderr",
     "output_type": "stream",
     "text": [
      " 74%|███████▍  | 83001/112150 [26:04<1:54:15,  4.25it/s]"
     ]
    },
    {
     "name": "stdout",
     "output_type": "stream",
     "text": [
      "learning rate: 0.0005159021819623092\n",
      "val loss: 0.00682377303019166\n",
      "train loss: 0.00679322425276041\n"
     ]
    },
    {
     "name": "stderr",
     "output_type": "stream",
     "text": [
      " 76%|███████▌  | 85230/112150 [26:31<05:28, 81.98it/s]  "
     ]
    },
    {
     "name": "stdout",
     "output_type": "stream",
     "text": [
      "finished epcoh: 37\n"
     ]
    },
    {
     "name": "stderr",
     "output_type": "stream",
     "text": [
      " 76%|███████▌  | 85247/112150 [26:40<1:42:06,  4.39it/s]"
     ]
    },
    {
     "name": "stdout",
     "output_type": "stream",
     "text": [
      "learning rate: 0.0004471866949673972\n",
      "val loss: 0.006787765771150589\n",
      "train loss: 0.006757634691894054\n"
     ]
    },
    {
     "name": "stderr",
     "output_type": "stream",
     "text": [
      " 78%|███████▊  | 87475/112150 [27:07<05:02, 81.62it/s]  "
     ]
    },
    {
     "name": "stdout",
     "output_type": "stream",
     "text": [
      "finished epcoh: 38\n"
     ]
    },
    {
     "name": "stderr",
     "output_type": "stream",
     "text": [
      " 78%|███████▊  | 87492/112150 [27:16<1:30:06,  4.56it/s]"
     ]
    },
    {
     "name": "stdout",
     "output_type": "stream",
     "text": [
      "learning rate: 0.00038171445122902074\n",
      "val loss: 0.00675263861194253\n",
      "train loss: 0.006719158962368965\n"
     ]
    },
    {
     "name": "stderr",
     "output_type": "stream",
     "text": [
      " 80%|████████  | 89720/112150 [27:43<04:29, 83.09it/s]  "
     ]
    },
    {
     "name": "stdout",
     "output_type": "stream",
     "text": [
      "finished epcoh: 39\n"
     ]
    },
    {
     "name": "stderr",
     "output_type": "stream",
     "text": [
      " 80%|████████  | 89729/112150 [27:52<1:54:11,  3.27it/s]"
     ]
    },
    {
     "name": "stdout",
     "output_type": "stream",
     "text": [
      "learning rate: 0.00032001259475670536\n",
      "val loss: 0.0067175524309277534\n",
      "train loss: 0.006680437829345465\n"
     ]
    },
    {
     "name": "stderr",
     "output_type": "stream",
     "text": [
      " 82%|████████▏ | 91959/112150 [28:19<04:04, 82.71it/s]  "
     ]
    },
    {
     "name": "stdout",
     "output_type": "stream",
     "text": [
      "finished epcoh: 40\n"
     ]
    },
    {
     "name": "stderr",
     "output_type": "stream",
     "text": [
      " 82%|████████▏ | 91976/112150 [28:27<1:07:55,  4.95it/s]"
     ]
    },
    {
     "name": "stdout",
     "output_type": "stream",
     "text": [
      "learning rate: 0.00026257791261866234\n",
      "val loss: 0.006665370427072048\n",
      "train loss: 0.0066290562972426414\n"
     ]
    },
    {
     "name": "stderr",
     "output_type": "stream",
     "text": [
      " 84%|████████▍ | 94203/112150 [28:54<03:36, 82.84it/s]  "
     ]
    },
    {
     "name": "stdout",
     "output_type": "stream",
     "text": [
      "finished epcoh: 41\n"
     ]
    },
    {
     "name": "stderr",
     "output_type": "stream",
     "text": [
      " 84%|████████▍ | 94220/112150 [29:03<1:03:36,  4.70it/s]"
     ]
    },
    {
     "name": "stdout",
     "output_type": "stream",
     "text": [
      "learning rate: 0.00020987283510442019\n",
      "val loss: 0.0066396314650774\n",
      "train loss: 0.006602284498512745\n"
     ]
    },
    {
     "name": "stderr",
     "output_type": "stream",
     "text": [
      " 86%|████████▌ | 96447/112150 [29:30<03:13, 81.29it/s]  "
     ]
    },
    {
     "name": "stdout",
     "output_type": "stream",
     "text": [
      "finished epcoh: 42\n"
     ]
    },
    {
     "name": "stderr",
     "output_type": "stream",
     "text": [
      " 86%|████████▌ | 96464/112150 [29:38<54:59,  4.75it/s]  "
     ]
    },
    {
     "name": "stdout",
     "output_type": "stream",
     "text": [
      "learning rate: 0.00016232171250804063\n",
      "val loss: 0.006611838936805725\n",
      "train loss: 0.006571582052856684\n"
     ]
    },
    {
     "name": "stderr",
     "output_type": "stream",
     "text": [
      " 88%|████████▊ | 98687/112150 [30:05<02:42, 83.02it/s]"
     ]
    },
    {
     "name": "stdout",
     "output_type": "stream",
     "text": [
      "finished epcoh: 43\n"
     ]
    },
    {
     "name": "stderr",
     "output_type": "stream",
     "text": [
      " 88%|████████▊ | 98704/112150 [30:13<42:44,  5.24it/s]"
     ]
    },
    {
     "name": "stdout",
     "output_type": "stream",
     "text": [
      "learning rate: 0.00012030739850906216\n",
      "val loss: 0.006591229233890772\n",
      "train loss: 0.006549554876983166\n"
     ]
    },
    {
     "name": "stderr",
     "output_type": "stream",
     "text": [
      " 90%|████████▉ | 100934/112150 [30:40<02:15, 82.76it/s]"
     ]
    },
    {
     "name": "stdout",
     "output_type": "stream",
     "text": [
      "finished epcoh: 44\n"
     ]
    },
    {
     "name": "stderr",
     "output_type": "stream",
     "text": [
      " 90%|█████████ | 100943/112150 [30:48<49:02,  3.81it/s]"
     ]
    },
    {
     "name": "stdout",
     "output_type": "stream",
     "text": [
      "learning rate: 8.416816765978795e-05\n",
      "val loss: 0.006577224005013704\n",
      "train loss: 0.006534148007631302\n"
     ]
    },
    {
     "name": "stderr",
     "output_type": "stream",
     "text": [
      " 92%|█████████▏| 103174/112150 [31:15<01:48, 83.02it/s]"
     ]
    },
    {
     "name": "stdout",
     "output_type": "stream",
     "text": [
      "finished epcoh: 45\n"
     ]
    },
    {
     "name": "stderr",
     "output_type": "stream",
     "text": [
      " 92%|█████████▏| 103191/112150 [31:22<27:54,  5.35it/s]"
     ]
    },
    {
     "name": "stdout",
     "output_type": "stream",
     "text": [
      "learning rate: 5.419499179749265e-05\n",
      "val loss: 0.0065634530037641525\n",
      "train loss: 0.006520238239318132\n"
     ]
    },
    {
     "name": "stderr",
     "output_type": "stream",
     "text": [
      " 94%|█████████▍| 105421/112150 [31:49<01:21, 82.92it/s]"
     ]
    },
    {
     "name": "stdout",
     "output_type": "stream",
     "text": [
      "finished epcoh: 46\n"
     ]
    },
    {
     "name": "stderr",
     "output_type": "stream",
     "text": [
      " 94%|█████████▍| 105430/112150 [31:57<29:15,  3.83it/s]"
     ]
    },
    {
     "name": "stdout",
     "output_type": "stream",
     "text": [
      "learning rate: 3.0629197310277676e-05\n",
      "val loss: 0.006552454549819231\n",
      "train loss: 0.006507308688014746\n"
     ]
    },
    {
     "name": "stderr",
     "output_type": "stream",
     "text": [
      " 96%|█████████▌| 107658/112150 [32:24<00:53, 83.40it/s]"
     ]
    },
    {
     "name": "stdout",
     "output_type": "stream",
     "text": [
      "finished epcoh: 47\n"
     ]
    },
    {
     "name": "stderr",
     "output_type": "stream",
     "text": [
      " 96%|█████████▌| 107675/112150 [32:31<13:56,  5.35it/s]"
     ]
    },
    {
     "name": "stdout",
     "output_type": "stream",
     "text": [
      "learning rate: 1.3660522118891148e-05\n",
      "val loss: 0.006548347417265177\n",
      "train loss: 0.006502307020127773\n"
     ]
    },
    {
     "name": "stderr",
     "output_type": "stream",
     "text": [
      " 98%|█████████▊| 109904/112150 [32:59<00:27, 82.79it/s]"
     ]
    },
    {
     "name": "stdout",
     "output_type": "stream",
     "text": [
      "finished epcoh: 48\n"
     ]
    },
    {
     "name": "stderr",
     "output_type": "stream",
     "text": [
      " 98%|█████████▊| 109921/112150 [33:06<06:44,  5.51it/s]"
     ]
    },
    {
     "name": "stdout",
     "output_type": "stream",
     "text": [
      "learning rate: 3.4255880185547446e-06\n",
      "val loss: 0.0065455022267997265\n",
      "train loss: 0.006499065551906824\n"
     ]
    },
    {
     "name": "stderr",
     "output_type": "stream",
     "text": [
      "100%|█████████▉| 112143/112150 [33:34<00:00, 78.29it/s]"
     ]
    },
    {
     "name": "stdout",
     "output_type": "stream",
     "text": [
      "finished epcoh: 49\n",
      "learning rate: 6.800680600540224e-09\n",
      "val loss: 0.006544893607497215\n",
      "train loss: 0.006498592905700207\n"
     ]
    }
   ],
   "source": [
    "from tqdm.auto import tqdm\n",
    "\n",
    "criterion = nn.MSELoss()\n",
    "progress_bar = tqdm(range(num_training_steps))\n",
    "\n",
    "for epoch in range(n_epochs):\n",
    "    model.train() # switch model to training mode\n",
    "\n",
    "    for batch in train_loader:\n",
    "        batch = batch.to(device)\n",
    "        outputs = model(batch)\n",
    "        loss = criterion(outputs, batch)\n",
    "\n",
    "        optimizer.zero_grad()\n",
    "        loss.backward()\n",
    "        optimizer.step()\n",
    "        scheduler.step()\n",
    "        progress_bar.update(1)\n",
    "    \n",
    "    print(f\"finished epcoh: {epoch}\")\n",
    "    with torch.no_grad():\n",
    "        # evaluate validation loss\n",
    "        model.eval() # switch model to evaluation mode\n",
    "        losses = torch.zeros(len(val_loader), device=device)\n",
    "        k = 0\n",
    "        for batch in val_loader:\n",
    "            batch = batch.to(device)\n",
    "            outputs = model(batch)\n",
    "            loss = criterion(outputs, batch)\n",
    "                \n",
    "            losses[k] = loss.item()\n",
    "            k += 1\n",
    "\n",
    "        avg_val_loss = losses.mean()\n",
    "        # -----------------------------\n",
    "        \n",
    "        # evaluate training loss\n",
    "        losses =  torch.zeros(len(train_loader), device=device)\n",
    "        k = 0\n",
    "        for batch in train_loader:\n",
    "            batch = batch.to(device)\n",
    "            outputs = model(batch)\n",
    "            loss = criterion(outputs, batch)\n",
    "                \n",
    "            losses[k] = loss.item()\n",
    "            k += 1\n",
    "            \n",
    "            if(k == len(train_loader)):\n",
    "                break\n",
    "        \n",
    "        avg_train_loss = losses.mean()\n",
    "        # ------------------------------\n",
    "        print(f\"learning rate: {optimizer.param_groups[0]['lr']}\")\n",
    "        print(f\"val loss: {avg_val_loss}\")\n",
    "        print(f\"train loss: {avg_train_loss}\")\n",
    "    "
   ]
  },
  {
   "cell_type": "markdown",
   "id": "9e94aebd",
   "metadata": {},
   "source": [
    "## Save the trained model weights and metadata"
   ]
  },
  {
   "cell_type": "code",
   "execution_count": 13,
   "id": "b82934b2-286a-43e8-9159-3c48b13ae737",
   "metadata": {},
   "outputs": [],
   "source": [
    "# !mkdir models  # uncomment to create models/ dir\n",
    "checkpoint = {\n",
    "    \"model\": model.state_dict(),\n",
    "    \"train_set\": train_dataset,\n",
    "    \"val_set\": val_dataset,\n",
    "    \"test_set\": test_dataset,\n",
    "    \"hyperparameters\": hyperparams\n",
    "}\n",
    "torch.save(checkpoint, f\"models/v0.pt\")"
   ]
  },
  {
   "cell_type": "markdown",
   "id": "f74fbdd8",
   "metadata": {},
   "source": [
    "## Load a saved model"
   ]
  },
  {
   "cell_type": "code",
   "execution_count": 14,
   "id": "247fd992",
   "metadata": {},
   "outputs": [],
   "source": [
    "chkp = torch.load(\"models/v0.pt\")\n",
    "emb_model = PositionAutoEncoder(chkp[\"hyperparameters\"]).to(device)\n",
    "emb_model.eval()\n",
    "emb_model.load_state_dict(chkp[\"model\"])\n",
    "\n",
    "train_dataset = chkp[\"train_set\"]\n",
    "val_dataset = chkp[\"val_set\"]\n",
    "test_dataset = chkp[\"test_set\"]\n",
    "embed_data = list(train_dataset + val_dataset + test_dataset)"
   ]
  },
  {
   "cell_type": "markdown",
   "id": "61f1c8eb",
   "metadata": {},
   "source": [
    "## Embed collection of chess positions"
   ]
  },
  {
   "cell_type": "code",
   "execution_count": 15,
   "id": "706a3d3c-d08e-4f72-a690-d856db82c644",
   "metadata": {
    "scrolled": true
   },
   "outputs": [
    {
     "data": {
      "text/plain": [
       "torch.Size([89690, 1, 128])"
      ]
     },
     "execution_count": 15,
     "metadata": {},
     "output_type": "execute_result"
    }
   ],
   "source": [
    "batches = [embed_data[i:i + 256] for i in range(0, len(embed_data), 256)]\n",
    "embeds = torch.cat([emb_model.embed(torch.stack(batch)) for batch in batches]).unsqueeze(1)\n",
    "embeds.shape"
   ]
  },
  {
   "cell_type": "markdown",
   "id": "ec1c30e0",
   "metadata": {},
   "source": [
    "## Seacrh similar positions"
   ]
  },
  {
   "cell_type": "code",
   "execution_count": 16,
   "id": "7c6da8ec-b476-484c-835e-e56a8e3ecbda",
   "metadata": {
    "scrolled": true
   },
   "outputs": [
    {
     "name": "stdout",
     "output_type": "stream",
     "text": [
      "query position: r2qkbnr/pbpppppp/1pn5/8/2B1P3/5N2/PPPP1PPP/RNBQK2R w KQkq - 0 1\n",
      "similar positions: ['r2qkbnr/pbpppppp/1pn5/8/2B1P3/5N2/PPPP1PPP/RNBQK2R w KQkq - 0 1', 'rn1qkbnr/pb1ppppp/1p6/2p5/4P3/5N2/PPPPBPPP/RNBQK2R w KQkq - 0 1', 'rn1qkbnr/pbpppppp/1p6/8/4P3/5N2/PPPP1PPP/RNBQKB1R w KQkq - 0 1', 'rn1qkbnr/p1pppppp/1p6/1B6/4b3/5N2/PPPP1PPP/RNBQK2R w KQkq - 0 1', 'r2qkbnr/pb1ppppp/1pn5/1Bp5/4P3/2P2N2/PP1P1PPP/RNBQK2R w KQkq - 0 1', 'rn1qkbnr/pbpppppp/1p6/8/2B1P3/8/PPPP1PPP/RNBQK1NR w KQkq - 0 1', 'rn1qkbnr/pbpppppp/1p6/8/4P3/8/PPPPBPPP/RNBQK1NR w KQkq - 0 1', 'rn1qkbnr/p2ppppp/bpp5/3B4/4P3/8/PPPP1PPP/RNBQK1NR w KQkq - 0 1', 'rn1qkbnr/pp2pppp/8/2p5/3pP1b1/3B1N2/PPPP1PPP/RNBQK2R w KQkq - 0 1', 'rn1qkbnr/p1pppppp/1pb5/8/4P3/3P1N2/PPP2PPP/RNBQKB1R w KQkq - 0 1']\n"
     ]
    }
   ],
   "source": [
    "# embed a query position\n",
    "query = emb_model.embed(test_dataset[0].unsqueeze(0)).unsqueeze(0)\n",
    "\n",
    "# calculate similarities and find top matches\n",
    "similarities = F.cosine_similarity(embeds, query, dim=2)\n",
    "top_matches = torch.topk(similarities, 10, dim=0)\n",
    "\n",
    "# print(top_matches.values)\n",
    "\n",
    "# convert matches to FEN strings\n",
    "top_tensors = torch.stack(list(embed_data))[top_matches.indices].squeeze(1)\n",
    "top_tensors = list(torch.split(top_tensors, 1, dim=0))\n",
    "positions = [tensor_to_pos(t.squeeze(0)) for t in top_tensors]\n",
    "query_pos = tensor_to_pos(test_dataset[0])\n",
    "\n",
    "print(f\"query position: {query_pos}\")\n",
    "print(f\"similar positions: {positions}\")"
   ]
  },
  {
   "cell_type": "markdown",
   "id": "e67d10cd",
   "metadata": {},
   "source": [
    "## Inspect similar positions\n",
    "Pass a FEN string to chess.Board() to view it"
   ]
  },
  {
   "cell_type": "code",
   "execution_count": null,
   "id": "5c9593e8-d768-43ce-b28d-dee61a94c647",
   "metadata": {},
   "outputs": [],
   "source": [
    "chess.Board(query_pos)"
   ]
  },
  {
   "cell_type": "code",
   "execution_count": null,
   "id": "b5e02f0e-3e5b-4f40-9dd9-ef60e029428b",
   "metadata": {},
   "outputs": [],
   "source": [
    "chess.Board(positions[1])"
   ]
  }
 ],
 "metadata": {
  "kernelspec": {
   "display_name": "Python 3 (ipykernel)",
   "language": "python",
   "name": "python3"
  },
  "language_info": {
   "codemirror_mode": {
    "name": "ipython",
    "version": 3
   },
   "file_extension": ".py",
   "mimetype": "text/x-python",
   "name": "python",
   "nbconvert_exporter": "python",
   "pygments_lexer": "ipython3",
   "version": "3.11.9"
  }
 },
 "nbformat": 4,
 "nbformat_minor": 5
}
