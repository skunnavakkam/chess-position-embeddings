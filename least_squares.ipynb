{
 "cells": [
  {
   "cell_type": "code",
   "execution_count": 1,
   "metadata": {},
   "outputs": [],
   "source": [
    "import torch\n",
    "import chess.pgn\n",
    "import tqdm"
   ]
  },
  {
   "cell_type": "code",
   "execution_count": 3,
   "metadata": {},
   "outputs": [],
   "source": [
    "import torch\n",
    "import torch.nn as nn\n",
    "import torch.nn.functional as F\n",
    "\n",
    "class Encoder(nn.Module):\n",
    "    def __init__(self, hyperparams):\n",
    "        super(Encoder, self).__init__()\n",
    "\n",
    "        channels = hyperparams[\"position_channels\"]\n",
    "        n_embed = hyperparams[\"n_embed\"]\n",
    "        filters = hyperparams[\"filters\"]\n",
    "        fc_size = hyperparams[\"fc_size\"]\n",
    "        \n",
    "        self.conv1 = nn.Conv2d(channels, filters, kernel_size=3, stride=1, padding=1)\n",
    "        self.conv2 = nn.Conv2d(filters, filters * 2, kernel_size=3, stride=1, padding=1)\n",
    "        self.conv3 = nn.Conv2d(filters * 2, filters * 4, kernel_size=3, stride=1, padding=1)\n",
    "        self.pool = nn.MaxPool2d(kernel_size=2, stride=2)\n",
    "        self.flatten = nn.Flatten()\n",
    "        self.fc1 = nn.Linear(filters * 4 * 1 * 1, fc_size)\n",
    "        self.fc2 = nn.Linear(fc_size, n_embed)  # Compressed representation\n",
    "\n",
    "    def forward(self, x):\n",
    "        x = F.relu(self.conv1(x))\n",
    "        x = self.pool(x)\n",
    "        x = F.relu(self.conv2(x))\n",
    "        x = self.pool(x)\n",
    "        x = F.relu(self.conv3(x))  \n",
    "        x = self.pool(x)\n",
    "        x = self.flatten(x)\n",
    "        x = F.relu(self.fc1(x))\n",
    "        x = self.fc2(x)\n",
    "        return x\n",
    "\n",
    "class Decoder(nn.Module):\n",
    "    def __init__(self, hyperparams):        \n",
    "        super(Decoder, self).__init__()\n",
    "\n",
    "        channels = hyperparams[\"position_channels\"]\n",
    "        n_embed = hyperparams[\"n_embed\"]\n",
    "        filters = hyperparams[\"filters\"]\n",
    "        fc_size = hyperparams[\"fc_size\"]\n",
    "\n",
    "        \n",
    "        self.fc1 = nn.Linear(n_embed, fc_size)\n",
    "        self.fc2 = nn.Linear(fc_size, filters * 4 * 1 * 1)\n",
    "        self.unflatten = nn.Unflatten(dim=1, unflattened_size=(filters * 4 , 1, 1))\n",
    "        self.deconv1 = nn.ConvTranspose2d(filters * 4, filters * 2, kernel_size=3, stride=2, padding=1, output_padding=1)\n",
    "        self.deconv2 = nn.ConvTranspose2d(filters * 2, filters, kernel_size=3, stride=2, padding=1, output_padding=1)\n",
    "        self.deconv3 = nn.ConvTranspose2d(filters, channels, kernel_size=3, stride=2, padding=1, output_padding=1)\n",
    "\n",
    "    def forward(self, x):\n",
    "        x = F.relu(self.fc1(x))\n",
    "        x = F.relu(self.fc2(x))\n",
    "        x = self.unflatten(x)\n",
    "        x = F.relu(self.deconv1(x))\n",
    "        x = F.relu(self.deconv2(x))\n",
    "        x = self.deconv3(x)\n",
    "        return x\n",
    "\n",
    "class PositionAutoEncoder(nn.Module):\n",
    "    def __init__(self, hyperparams):\n",
    "        super(PositionAutoEncoder, self).__init__()\n",
    "        self.encoder = Encoder(hyperparams)\n",
    "        self.decoder = Decoder(hyperparams)\n",
    "\n",
    "    \n",
    "    def forward(self, x):\n",
    "        x = self.encoder(x)\n",
    "        x = self.decoder(x)\n",
    "\n",
    "        return x\n",
    "\n",
    "    @torch.no_grad()\n",
    "    def embed(self, x):\n",
    "        code = self.encoder(x)\n",
    "        return code"
   ]
  },
  {
   "cell_type": "code",
   "execution_count": 4,
   "metadata": {},
   "outputs": [],
   "source": [
    "from torch.utils.data import Dataset, DataLoader\n",
    "\n",
    "\n",
    "class PositionDataset(Dataset):\n",
    "  def __init__(self, tensors):\n",
    "        self.tensors = tensors\n",
    "\n",
    "  def __len__(self):\n",
    "      return len(self.tensors)\n",
    "\n",
    "  def __getitem__(self, idx):\n",
    "        return self.tensors[idx]"
   ]
  },
  {
   "cell_type": "code",
   "execution_count": 6,
   "metadata": {},
   "outputs": [
    {
     "data": {
      "text/plain": [
       "<All keys matched successfully>"
      ]
     },
     "execution_count": 6,
     "metadata": {},
     "output_type": "execute_result"
    }
   ],
   "source": [
    "device = \"mps\" if torch.backends.mps.is_available() else \"cuda\"\n",
    "device = torch.device(device)\n",
    "\n",
    "chkp = torch.load(\"models/v0.pt\")\n",
    "emb_model = PositionAutoEncoder(chkp[\"hyperparameters\"]).to(device)\n",
    "emb_model.eval()\n",
    "emb_model.load_state_dict(chkp[\"model\"])"
   ]
  },
  {
   "cell_type": "code",
   "execution_count": 7,
   "metadata": {},
   "outputs": [],
   "source": [
    "piece_to_idx = {'P': 0, 'N': 1, 'B': 2, 'R': 3, 'Q': 4, 'K': 5,\n",
    "                'p': 6, 'n': 7, 'b': 8, 'r': 9, 'q': 10, 'k': 11}\n",
    "\n",
    "def pos_to_tensor(fen, device=\"mps\"):\n",
    "    parts = fen.split(\" \")\n",
    "    wtm = parts[1] == \"w\"\n",
    "    castling_rights = parts[2]\n",
    "\n",
    "    board = chess.Board(fen)\n",
    "    tensor = torch.zeros(15, 8, 8, device=device)\n",
    "\n",
    "    for row in range(8): \n",
    "        for col in range(8):\n",
    "            sqr = chess.square(col, 7 - row)\n",
    "            piece = board.piece_at(sqr)\n",
    "            if piece is not None:\n",
    "                p = piece.symbol()\n",
    "                idx = piece_to_idx[p]\n",
    "                tensor[idx, row, col] = 1 if p.isupper() else -1\n",
    "                  \n",
    "    # Encode castling rights\n",
    "    if 'K' in castling_rights:\n",
    "        tensor[12, 0, 0] = 1\n",
    "    if 'Q' in castling_rights:\n",
    "        tensor[12, 0, 7] = 1\n",
    "    if 'k' in castling_rights:\n",
    "        tensor[13, 7, 0] = -1  \n",
    "    if 'q' in castling_rights:\n",
    "        tensor[13, 7, 7] = -1\n",
    "          \n",
    "    # Encode side to move\n",
    "    tensor[14] = 1 if wtm else -1\n",
    "      \n",
    "    return tensor"
   ]
  },
  {
   "cell_type": "code",
   "execution_count": 9,
   "metadata": {},
   "outputs": [],
   "source": [
    "import pandas as pd\n",
    "\n",
    "df = pd.read_csv(\"chess-evals/random_evals.csv\")\n",
    "\n",
    "\n",
    "num_positions = 1000\n",
    "# pick the first thousand positions and the first thousand evaluations\n",
    "positions = df[\"FEN\"].values[:num_positions]\n",
    "evals = df[\"Evaluation\"].values[:num_positions]\n",
    "\n",
    "# convert the positions to tensors\n",
    "pos_tensors = [pos_to_tensor(pos, device) for pos in positions]\n",
    "\n",
    "# embed the positions\n",
    "embeddings = [emb_model.embed(pos.unsqueeze(0)) for pos in pos_tensors]"
   ]
  },
  {
   "cell_type": "code",
   "execution_count": 10,
   "metadata": {},
   "outputs": [],
   "source": [
    "# reshape embeddings from (1, 128) to (128,)\n",
    "embeddings = [emb.squeeze(0) for emb in embeddings]\n",
    "embeddings = torch.stack(embeddings)"
   ]
  },
  {
   "cell_type": "code",
   "execution_count": 11,
   "metadata": {},
   "outputs": [
    {
     "name": "stdout",
     "output_type": "stream",
     "text": [
      "[-459, -125, 198, -155, 209, -101, -105, -136, -1262, -117, 104, 108, 194, 93, -71, 217, 163, 176, -1248, -128, -55, 128, -135, -161, -138, -148, -55, -123, -129, -151, -104, 141, 378, -159, 363, -132, -139, 378, -96, -155, 359, 454, -182, 409, 490, 374, 386, 367, 390, -252, 378, 359, -435, 344, 363, -60, -17, 463, 184, -230, -109, 412, -51, -138, -42, -104, -58, -63, -40, -71, -27, 27, -5, -45, 0, 214, 58, -59, -48, 0, -153, 574, 417, 186, 265, -40, -119, -84, -117, 156, 263, 165, 594, 271, 567, 144, -50, 234, -459, 157, -21, 200, 273, -47, 117, 190, -20, 172, 230, -41, 148, -301, -90, -136, -28, -70, -50, -83, -471, -78, -74, -51, -463, -109, 43, -217, -75, -59, -1230, -21, -67, -76, -71, 12, -66, 444, -32, -34, 436, -190, 497, 528, -132, -175, 474, 569, 513, 815, 472, 625, 270, 564, 428, 372, 438, 501, 205, 477, 367, 448, 563, 418, 445, 475, 572, 509, -1262, -148, 575, 424, 501, -138, -84, -1290, -109, -413, -80, -238, 557, -148, -28, -48, -131, -112, -467, -98, -86, -136, -107, -98, -148, -122, -13, -132, -234, -90, -127, -160, -178, -161, -144, 42, -101, 217, -125, -240, 185, 532, -175, 198, 232, 598, 236, 625, 167, 582, 409, 445, 294, 184, 325, 225, 394, 240, 175, 136, 395, 199, 263, 25, -35, 42, -213, 271, 196, 255, -12, -217, -1238, 308, -1262, 117, -42, -61, -49, -12, -160, -59, -112, 25, -501, -113, -13, -103, -54, -39, -36, 1, -146, -71, -55, -27, 180, -31, -48, 240, -43, 160, 40, 515, 148, 478, 188, -63, 137, 140, 409, 98, 142, 163, 557, 171, 367, 112, 135, 117, 171, -90, 163, -101, -107, 140, -128, -459, -203, 40, 176, 84, 75, -1249, 221, -217, -122, 9, -48, -5, 182, -533, -101, -44, -50, -48, -59, 17, 21, 32, -51, -9, -82, -55, -44, -1, 417, 571, -78, 40, 771, 421, -273, -44, 28, 106, 517, -117, 117, 105, 132, 137, 137, 455, 209, 421, -54, 378, 138, 127, 328, 135, 119, 303, -150, 50, -484, 82, -162, -113, 88, -329, 189, -486, -159, -78, 32, 159, -271, -63, -5, -152, -124, -86, 1, -24, -125, -136, -55, -68, -101, 136, 0, -25, 532, -78, 478, -89, 444, 431, -101, -275, -121, 546, -62, 575, 413, 451, -67, 424, 706, 551, -43, 491, 340, 648, -42, 359, 412, 386, 494, -78, 418, 855, 55, 492, 748, 448, 397, 463, 447, 507, 355, -458, -112, 432, 398, -144, 494, 436, -117, -494, 1, -125, -160, 24, -194, -122, -13, -48, -127, -1, -98, -105, -99, -94, -201, -53, -5, -28, -123, -113, -44, -66, -121, 1132, -58, -89, 94, 112, 1121, 0, -20, -24, 195, -98, 124, -109, -69, 786, 448, 148, 217, 59, 67, 340, 111, 514, 152, 86, 301, 32, 153, 513, 235, 59, -523, 94, 265, 155, -502, -548, 101, 48, 1, -82, -107, -55, -106, -280, 48, -248, -290, -132, -178, -92, -150, -113, -108, -221, -117, -262, 78, -129, -198, 13, -125, -182, -132, -113, -103, 1125, -140, -96, 1056, -213, 260, -140, 86, 163, 104, -83, 236, 175, 241, 480, 471, 117, -228, 201, 92, 498, 432, 111, 380, 117, 386, 444, 484, 371, 140, 151, 82, 92, 125, 171, 132, -226, 306, 232, 101, -548, 61, -214, -236, -85, -205, -617, -271, -293, -240, -283, -226, -238, 1, 103, -272, -55, -163, -450, -225, -58, -96, -225, -132, -155, -261, -105, 31, -82, -101, 1125, 163, 139, 1056, -94, -75, -105, 140, 178, 142, 382, 494, 139, 455, 142, -313, 75, 82, 78, 401, 298, 148, 371, 306, 378, 104, 127, 125, 490, 82, 73, 95, 237, 122, -446, 297, 63, -163, 132, -605, -121, -82, -213, -90, -109, -139, -148, -247, -125, -244, -98, -105, -306, -109, -99, -105, 64, -78, -59, -12, -51, -62, -67, -116, 367, -15, 582, -190, 321, 286, -55, -74, 1341, 218, -159, 375, 309, -147, 656, -75, 413, 298, 16, 153, 275, 444, 313, 367, -50, 622, 485, 286, 555, 438, 332, 182, 717, 566, 281, 532, 340, 182, -515, -226, 287, 121, 440, 108, -536, -148, -148, -115, -133, -104, -12, -835, -79, -125, -75, -552, -232, -673, -51, -1, -176, -43, -101, -169, -290, 12, -139, -188, -198, -31, -17, 67, 5, 36, 475, -157, -28, 425, 409, 397, 97, 490, 523, -17, 389, 58, 486, 604, 533, 732, 519, 486, 636, 490, 397, 459, 382, 448, 470, 528, 555, 153, 140, 454, 525, 420, 444, 436, 621, 594, 475, 521, 459, 434, 200, 630, -59, -113, -125, -151, -122, -136, -74, -155, 75, -225, -49, -95, -190, -93, -791, -367, -97, -706, -774, 13, -590, -153, -305, -151, -66, -63, -778, -44, 9, -48, 21, 1155, 60, -169, -128, 584, -82, -132, -78, 594, 917, 595, 782, 648, -60, 598, 625, 934, 905, -32, 636, 706, -47, 563, 649, 671, 671, 667, 628, 167, 705, 659, 844, 655, -563, 636, 671, 169, 71, 663, 27, 721, 12, -101, 622, -151, -1, -428, -1209, 1, -297, -71, 13, 48, -39, -128, -504, -762, -640, -550, 78, -183, 16, -51, -144, -117, 0, 112, 6, 27, 44, 24, 59, 478, -148, 1109, 464, -44, 93, 431, 221, 44, -63, 359, 616, 501, 605, -105, 117, 405, 609, 359, 355, 375, 221, 651, 500, 448, 432, 440, 453, 450, 523, -128, 375, 717, 417, 351, 490, -140, 405, -632, -677, 454, -220, -278, -728, -805, -898, -386, -1371, -214, -213, -318, -212, -213, -980, -351, -278, -236, -431, -421, -786, -263, -378, -278, -448, -298, -271, -217, -279, -263, -348, -175, -198, 619, 582, -317, -259, 467, 1078, -436, 513, -421, -275, 1040, -306, 1078, 34, -275, -273, 555, 618, 676, 467, 417, 428, -178, 409, -109, 351, 561, 528, 599, 378, 694, 1035, 562, -33, 1009, 590, 503, 432, 502, 417, 367, -28, -575, -165, -348, -163, -728, 582, -318, -348, -157, -878, -401, -766, -1087, -409, -1355, -519]\n"
     ]
    }
   ],
   "source": [
    "# processing evals\n",
    "# if it is checkmate #, then it is +/- 512000\n",
    "\n",
    "def eval_to_score(evaluation: str) -> int:\n",
    "    if evaluation[0] == \"#\":\n",
    "        return 512000 if evaluation[1] == \"+\" else -512000\n",
    "    return int(evaluation)\n",
    "\n",
    "evals = [eval_to_score(eval) for eval in evals]\n",
    "\n",
    "print(evals)"
   ]
  },
  {
   "cell_type": "code",
   "execution_count": 72,
   "metadata": {},
   "outputs": [
    {
     "name": "stdout",
     "output_type": "stream",
     "text": [
      "torch.Size([128])\n",
      "torch.Size([16384, 128])\n"
     ]
    }
   ],
   "source": [
    "print(embeddings[0].shape)\n",
    "print(embeddings.shape)\n"
   ]
  },
  {
   "cell_type": "code",
   "execution_count": 12,
   "metadata": {},
   "outputs": [],
   "source": [
    "evals = torch.tensor(evals, device=device)"
   ]
  },
  {
   "cell_type": "code",
   "execution_count": 13,
   "metadata": {},
   "outputs": [
    {
     "ename": "ModuleNotFoundError",
     "evalue": "No module named 'sklearn'",
     "output_type": "error",
     "traceback": [
      "\u001b[0;31m---------------------------------------------------------------------------\u001b[0m",
      "\u001b[0;31mModuleNotFoundError\u001b[0m                       Traceback (most recent call last)",
      "Cell \u001b[0;32mIn[13], line 2\u001b[0m\n\u001b[1;32m      1\u001b[0m \u001b[38;5;66;03m# run pca on the embeddings\u001b[39;00m\n\u001b[0;32m----> 2\u001b[0m \u001b[38;5;28;01mfrom\u001b[39;00m \u001b[38;5;21;01msklearn\u001b[39;00m\u001b[38;5;21;01m.\u001b[39;00m\u001b[38;5;21;01mdecomposition\u001b[39;00m \u001b[38;5;28;01mimport\u001b[39;00m PCA\n\u001b[1;32m      3\u001b[0m \u001b[38;5;28;01mimport\u001b[39;00m \u001b[38;5;21;01mmatplotlib\u001b[39;00m\u001b[38;5;21;01m.\u001b[39;00m\u001b[38;5;21;01mpyplot\u001b[39;00m \u001b[38;5;28;01mas\u001b[39;00m \u001b[38;5;21;01mplt\u001b[39;00m\n\u001b[1;32m      5\u001b[0m pca \u001b[38;5;241m=\u001b[39m PCA(n_components\u001b[38;5;241m=\u001b[39m\u001b[38;5;241m2\u001b[39m)\n",
      "\u001b[0;31mModuleNotFoundError\u001b[0m: No module named 'sklearn'"
     ]
    }
   ],
   "source": [
    "# run pca on the embeddings\n",
    "from sklearn.decomposition import PCA\n",
    "import matplotlib.pyplot as plt\n",
    "\n",
    "pca = PCA(n_components=2)\n",
    "pca.fit(embeddings.cpu().numpy())\n",
    "\n",
    "embeddings_pca = pca.transform(embeddings.cpu().numpy())\n",
    "\n",
    "# plot the embeddings, and make it so that when you hover over a scatter point it shows the evaluation\n",
    "plt.scatter(embeddings_pca[:, 0], embeddings_pca[:, 1], c=evals.cpu().numpy())\n",
    "plt.colorbar()\n",
    "plt.show()\n",
    "\n"
   ]
  },
  {
   "cell_type": "code",
   "execution_count": 93,
   "metadata": {},
   "outputs": [
    {
     "name": "stdout",
     "output_type": "stream",
     "text": [
      "torch.Size([16384])\n"
     ]
    },
    {
     "ename": "ValueError",
     "evalue": "x and y must be the same size",
     "output_type": "error",
     "traceback": [
      "\u001b[0;31m---------------------------------------------------------------------------\u001b[0m",
      "\u001b[0;31mValueError\u001b[0m                                Traceback (most recent call last)",
      "Cell \u001b[0;32mIn[93], line 36\u001b[0m\n\u001b[1;32m     32\u001b[0m \u001b[38;5;28mprint\u001b[39m(predictions\u001b[38;5;241m.\u001b[39mshape)\n\u001b[1;32m     34\u001b[0m \u001b[38;5;28;01mimport\u001b[39;00m \u001b[38;5;21;01mmatplotlib\u001b[39;00m\u001b[38;5;21;01m.\u001b[39;00m\u001b[38;5;21;01mpyplot\u001b[39;00m \u001b[38;5;28;01mas\u001b[39;00m \u001b[38;5;21;01mplt\u001b[39;00m\n\u001b[0;32m---> 36\u001b[0m \u001b[43mplt\u001b[49m\u001b[38;5;241;43m.\u001b[39;49m\u001b[43mscatter\u001b[49m\u001b[43m(\u001b[49m\u001b[43mnew_evals\u001b[49m\u001b[43m,\u001b[49m\u001b[43m \u001b[49m\u001b[43mpredictions\u001b[49m\u001b[43m)\u001b[49m\n\u001b[1;32m     37\u001b[0m plt\u001b[38;5;241m.\u001b[39mxlabel(\u001b[38;5;124m\"\u001b[39m\u001b[38;5;124mTrue Evaluation\u001b[39m\u001b[38;5;124m\"\u001b[39m)\n\u001b[1;32m     38\u001b[0m plt\u001b[38;5;241m.\u001b[39mylabel(\u001b[38;5;124m\"\u001b[39m\u001b[38;5;124mPredicted Evaluation\u001b[39m\u001b[38;5;124m\"\u001b[39m)\n",
      "File \u001b[0;32m~/Documents/Github/chess-position-embeddings/venv/lib/python3.11/site-packages/matplotlib/pyplot.py:3817\u001b[0m, in \u001b[0;36mscatter\u001b[0;34m(x, y, s, c, marker, cmap, norm, vmin, vmax, alpha, linewidths, edgecolors, plotnonfinite, data, **kwargs)\u001b[0m\n\u001b[1;32m   3798\u001b[0m \u001b[38;5;129m@_copy_docstring_and_deprecators\u001b[39m(Axes\u001b[38;5;241m.\u001b[39mscatter)\n\u001b[1;32m   3799\u001b[0m \u001b[38;5;28;01mdef\u001b[39;00m \u001b[38;5;21mscatter\u001b[39m(\n\u001b[1;32m   3800\u001b[0m     x: \u001b[38;5;28mfloat\u001b[39m \u001b[38;5;241m|\u001b[39m ArrayLike,\n\u001b[0;32m   (...)\u001b[0m\n\u001b[1;32m   3815\u001b[0m     \u001b[38;5;241m*\u001b[39m\u001b[38;5;241m*\u001b[39mkwargs,\n\u001b[1;32m   3816\u001b[0m ) \u001b[38;5;241m-\u001b[39m\u001b[38;5;241m>\u001b[39m PathCollection:\n\u001b[0;32m-> 3817\u001b[0m     __ret \u001b[38;5;241m=\u001b[39m \u001b[43mgca\u001b[49m\u001b[43m(\u001b[49m\u001b[43m)\u001b[49m\u001b[38;5;241;43m.\u001b[39;49m\u001b[43mscatter\u001b[49m\u001b[43m(\u001b[49m\n\u001b[1;32m   3818\u001b[0m \u001b[43m        \u001b[49m\u001b[43mx\u001b[49m\u001b[43m,\u001b[49m\n\u001b[1;32m   3819\u001b[0m \u001b[43m        \u001b[49m\u001b[43my\u001b[49m\u001b[43m,\u001b[49m\n\u001b[1;32m   3820\u001b[0m \u001b[43m        \u001b[49m\u001b[43ms\u001b[49m\u001b[38;5;241;43m=\u001b[39;49m\u001b[43ms\u001b[49m\u001b[43m,\u001b[49m\n\u001b[1;32m   3821\u001b[0m \u001b[43m        \u001b[49m\u001b[43mc\u001b[49m\u001b[38;5;241;43m=\u001b[39;49m\u001b[43mc\u001b[49m\u001b[43m,\u001b[49m\n\u001b[1;32m   3822\u001b[0m \u001b[43m        \u001b[49m\u001b[43mmarker\u001b[49m\u001b[38;5;241;43m=\u001b[39;49m\u001b[43mmarker\u001b[49m\u001b[43m,\u001b[49m\n\u001b[1;32m   3823\u001b[0m \u001b[43m        \u001b[49m\u001b[43mcmap\u001b[49m\u001b[38;5;241;43m=\u001b[39;49m\u001b[43mcmap\u001b[49m\u001b[43m,\u001b[49m\n\u001b[1;32m   3824\u001b[0m \u001b[43m        \u001b[49m\u001b[43mnorm\u001b[49m\u001b[38;5;241;43m=\u001b[39;49m\u001b[43mnorm\u001b[49m\u001b[43m,\u001b[49m\n\u001b[1;32m   3825\u001b[0m \u001b[43m        \u001b[49m\u001b[43mvmin\u001b[49m\u001b[38;5;241;43m=\u001b[39;49m\u001b[43mvmin\u001b[49m\u001b[43m,\u001b[49m\n\u001b[1;32m   3826\u001b[0m \u001b[43m        \u001b[49m\u001b[43mvmax\u001b[49m\u001b[38;5;241;43m=\u001b[39;49m\u001b[43mvmax\u001b[49m\u001b[43m,\u001b[49m\n\u001b[1;32m   3827\u001b[0m \u001b[43m        \u001b[49m\u001b[43malpha\u001b[49m\u001b[38;5;241;43m=\u001b[39;49m\u001b[43malpha\u001b[49m\u001b[43m,\u001b[49m\n\u001b[1;32m   3828\u001b[0m \u001b[43m        \u001b[49m\u001b[43mlinewidths\u001b[49m\u001b[38;5;241;43m=\u001b[39;49m\u001b[43mlinewidths\u001b[49m\u001b[43m,\u001b[49m\n\u001b[1;32m   3829\u001b[0m \u001b[43m        \u001b[49m\u001b[43medgecolors\u001b[49m\u001b[38;5;241;43m=\u001b[39;49m\u001b[43medgecolors\u001b[49m\u001b[43m,\u001b[49m\n\u001b[1;32m   3830\u001b[0m \u001b[43m        \u001b[49m\u001b[43mplotnonfinite\u001b[49m\u001b[38;5;241;43m=\u001b[39;49m\u001b[43mplotnonfinite\u001b[49m\u001b[43m,\u001b[49m\n\u001b[1;32m   3831\u001b[0m \u001b[43m        \u001b[49m\u001b[38;5;241;43m*\u001b[39;49m\u001b[38;5;241;43m*\u001b[39;49m\u001b[43m(\u001b[49m\u001b[43m{\u001b[49m\u001b[38;5;124;43m\"\u001b[39;49m\u001b[38;5;124;43mdata\u001b[39;49m\u001b[38;5;124;43m\"\u001b[39;49m\u001b[43m:\u001b[49m\u001b[43m \u001b[49m\u001b[43mdata\u001b[49m\u001b[43m}\u001b[49m\u001b[43m \u001b[49m\u001b[38;5;28;43;01mif\u001b[39;49;00m\u001b[43m \u001b[49m\u001b[43mdata\u001b[49m\u001b[43m \u001b[49m\u001b[38;5;129;43;01mis\u001b[39;49;00m\u001b[43m \u001b[49m\u001b[38;5;129;43;01mnot\u001b[39;49;00m\u001b[43m \u001b[49m\u001b[38;5;28;43;01mNone\u001b[39;49;00m\u001b[43m \u001b[49m\u001b[38;5;28;43;01melse\u001b[39;49;00m\u001b[43m \u001b[49m\u001b[43m{\u001b[49m\u001b[43m}\u001b[49m\u001b[43m)\u001b[49m\u001b[43m,\u001b[49m\n\u001b[1;32m   3832\u001b[0m \u001b[43m        \u001b[49m\u001b[38;5;241;43m*\u001b[39;49m\u001b[38;5;241;43m*\u001b[39;49m\u001b[43mkwargs\u001b[49m\u001b[43m,\u001b[49m\n\u001b[1;32m   3833\u001b[0m \u001b[43m    \u001b[49m\u001b[43m)\u001b[49m\n\u001b[1;32m   3834\u001b[0m     sci(__ret)\n\u001b[1;32m   3835\u001b[0m     \u001b[38;5;28;01mreturn\u001b[39;00m __ret\n",
      "File \u001b[0;32m~/Documents/Github/chess-position-embeddings/venv/lib/python3.11/site-packages/matplotlib/__init__.py:1473\u001b[0m, in \u001b[0;36m_preprocess_data.<locals>.inner\u001b[0;34m(ax, data, *args, **kwargs)\u001b[0m\n\u001b[1;32m   1470\u001b[0m \u001b[38;5;129m@functools\u001b[39m\u001b[38;5;241m.\u001b[39mwraps(func)\n\u001b[1;32m   1471\u001b[0m \u001b[38;5;28;01mdef\u001b[39;00m \u001b[38;5;21minner\u001b[39m(ax, \u001b[38;5;241m*\u001b[39margs, data\u001b[38;5;241m=\u001b[39m\u001b[38;5;28;01mNone\u001b[39;00m, \u001b[38;5;241m*\u001b[39m\u001b[38;5;241m*\u001b[39mkwargs):\n\u001b[1;32m   1472\u001b[0m     \u001b[38;5;28;01mif\u001b[39;00m data \u001b[38;5;129;01mis\u001b[39;00m \u001b[38;5;28;01mNone\u001b[39;00m:\n\u001b[0;32m-> 1473\u001b[0m         \u001b[38;5;28;01mreturn\u001b[39;00m \u001b[43mfunc\u001b[49m\u001b[43m(\u001b[49m\n\u001b[1;32m   1474\u001b[0m \u001b[43m            \u001b[49m\u001b[43max\u001b[49m\u001b[43m,\u001b[49m\n\u001b[1;32m   1475\u001b[0m \u001b[43m            \u001b[49m\u001b[38;5;241;43m*\u001b[39;49m\u001b[38;5;28;43mmap\u001b[39;49m\u001b[43m(\u001b[49m\u001b[43msanitize_sequence\u001b[49m\u001b[43m,\u001b[49m\u001b[43m \u001b[49m\u001b[43margs\u001b[49m\u001b[43m)\u001b[49m\u001b[43m,\u001b[49m\n\u001b[1;32m   1476\u001b[0m \u001b[43m            \u001b[49m\u001b[38;5;241;43m*\u001b[39;49m\u001b[38;5;241;43m*\u001b[39;49m\u001b[43m{\u001b[49m\u001b[43mk\u001b[49m\u001b[43m:\u001b[49m\u001b[43m \u001b[49m\u001b[43msanitize_sequence\u001b[49m\u001b[43m(\u001b[49m\u001b[43mv\u001b[49m\u001b[43m)\u001b[49m\u001b[43m \u001b[49m\u001b[38;5;28;43;01mfor\u001b[39;49;00m\u001b[43m \u001b[49m\u001b[43mk\u001b[49m\u001b[43m,\u001b[49m\u001b[43m \u001b[49m\u001b[43mv\u001b[49m\u001b[43m \u001b[49m\u001b[38;5;129;43;01min\u001b[39;49;00m\u001b[43m \u001b[49m\u001b[43mkwargs\u001b[49m\u001b[38;5;241;43m.\u001b[39;49m\u001b[43mitems\u001b[49m\u001b[43m(\u001b[49m\u001b[43m)\u001b[49m\u001b[43m}\u001b[49m\u001b[43m)\u001b[49m\n\u001b[1;32m   1478\u001b[0m     bound \u001b[38;5;241m=\u001b[39m new_sig\u001b[38;5;241m.\u001b[39mbind(ax, \u001b[38;5;241m*\u001b[39margs, \u001b[38;5;241m*\u001b[39m\u001b[38;5;241m*\u001b[39mkwargs)\n\u001b[1;32m   1479\u001b[0m     auto_label \u001b[38;5;241m=\u001b[39m (bound\u001b[38;5;241m.\u001b[39marguments\u001b[38;5;241m.\u001b[39mget(label_namer)\n\u001b[1;32m   1480\u001b[0m                   \u001b[38;5;129;01mor\u001b[39;00m bound\u001b[38;5;241m.\u001b[39mkwargs\u001b[38;5;241m.\u001b[39mget(label_namer))\n",
      "File \u001b[0;32m~/Documents/Github/chess-position-embeddings/venv/lib/python3.11/site-packages/matplotlib/axes/_axes.py:4787\u001b[0m, in \u001b[0;36mAxes.scatter\u001b[0;34m(self, x, y, s, c, marker, cmap, norm, vmin, vmax, alpha, linewidths, edgecolors, plotnonfinite, **kwargs)\u001b[0m\n\u001b[1;32m   4785\u001b[0m y \u001b[38;5;241m=\u001b[39m np\u001b[38;5;241m.\u001b[39mma\u001b[38;5;241m.\u001b[39mravel(y)\n\u001b[1;32m   4786\u001b[0m \u001b[38;5;28;01mif\u001b[39;00m x\u001b[38;5;241m.\u001b[39msize \u001b[38;5;241m!=\u001b[39m y\u001b[38;5;241m.\u001b[39msize:\n\u001b[0;32m-> 4787\u001b[0m     \u001b[38;5;28;01mraise\u001b[39;00m \u001b[38;5;167;01mValueError\u001b[39;00m(\u001b[38;5;124m\"\u001b[39m\u001b[38;5;124mx and y must be the same size\u001b[39m\u001b[38;5;124m\"\u001b[39m)\n\u001b[1;32m   4789\u001b[0m \u001b[38;5;28;01mif\u001b[39;00m s \u001b[38;5;129;01mis\u001b[39;00m \u001b[38;5;28;01mNone\u001b[39;00m:\n\u001b[1;32m   4790\u001b[0m     s \u001b[38;5;241m=\u001b[39m (\u001b[38;5;241m20\u001b[39m \u001b[38;5;28;01mif\u001b[39;00m mpl\u001b[38;5;241m.\u001b[39mrcParams[\u001b[38;5;124m'\u001b[39m\u001b[38;5;124m_internal.classic_mode\u001b[39m\u001b[38;5;124m'\u001b[39m] \u001b[38;5;28;01melse\u001b[39;00m\n\u001b[1;32m   4791\u001b[0m          mpl\u001b[38;5;241m.\u001b[39mrcParams[\u001b[38;5;124m'\u001b[39m\u001b[38;5;124mlines.markersize\u001b[39m\u001b[38;5;124m'\u001b[39m] \u001b[38;5;241m*\u001b[39m\u001b[38;5;241m*\u001b[39m \u001b[38;5;241m2.0\u001b[39m)\n",
      "\u001b[0;31mValueError\u001b[0m: x and y must be the same size"
     ]
    },
    {
     "data": {
      "image/png": "[encoded data removed]",
      "text/plain": [
       "<Figure size 640x480 with 1 Axes>"
      ]
     },
     "metadata": {},
     "output_type": "display_data"
    }
   ],
   "source": [
    "# now we want to predict the evaluations\n",
    "B1 = B.detach().clone()\n",
    "B1.requires_grad = False\n",
    "B1.cpu()\n",
    "\n",
    "# take another set of positions and plot the evaluations\n",
    "positions = df[\"FEN\"].values[16384:16384 + 100]\n",
    "new_evals = df[\"Evaluation\"].values[16384:16384 + 100]\n",
    "\n",
    "# convert the positions to tensors\n",
    "new_pos_tensors = [pos_to_tensor(pos, device) for pos in positions]\n",
    "\n",
    "# embed the positions\n",
    "new_embeddings = [emb_model.embed(pos.unsqueeze(0)) for pos in pos_tensors]\n",
    "\n",
    "# reshape embeddings from (1, 128) to (128,)\n",
    "new_embeddings = [emb.squeeze(0) for emb in embeddings]\n",
    "new_embeddings = torch.stack(new_embeddings).cpu()\n",
    "\n",
    "# processing evals\n",
    "new_evals = [eval_to_score(new_eval) for new_eval in new_evals]\n",
    "new_evals = torch.tensor(new_evals, device=device).float().cpu()\n",
    "\n",
    "# get devices\n",
    "B1 = B1.cpu()\n",
    "new_evals = new_evals.cpu()\n",
    "new_embeddings = new_embeddings.cpu()\n",
    "\n",
    "predictions = [torch.dot(B1, emb) for emb in new_embeddings]\n",
    "predictions = torch.stack(predictions)\n",
    "\n",
    "print(predictions.shape)\n",
    "\n",
    "import matplotlib.pyplot as plt\n",
    "\n",
    "plt.scatter(new_evals, predictions)\n",
    "plt.xlabel(\"True Evaluation\")\n",
    "plt.ylabel(\"Predicted Evaluation\")\n",
    "plt.title(\"True vs Predicted Evaluation\")\n",
    "plt.show()"
   ]
  }
 ],
 "metadata": {
  "kernelspec": {
   "display_name": "venv",
   "language": "python",
   "name": "python3"
  },
  "language_info": {
   "codemirror_mode": {
    "name": "ipython",
    "version": 3
   },
   "file_extension": ".py",
   "mimetype": "text/x-python",
   "name": "python",
   "nbconvert_exporter": "python",
   "pygments_lexer": "ipython3",
   "version": "3.11.9"
  }
 },
 "nbformat": 4,
 "nbformat_minor": 2
}
